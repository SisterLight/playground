{
 "cells": [
  {
   "cell_type": "code",
   "execution_count": 1,
   "metadata": {
    "scrolled": true
   },
   "outputs": [
    {
     "name": "stdout",
     "output_type": "stream",
     "text": [
      "Requirement already satisfied: lightgbm in c:\\users\\elousiren\\anaconda3\\lib\\site-packages (3.3.0)"
     ]
    },
    {
     "name": "stderr",
     "output_type": "stream",
     "text": [
      "WARNING: You are using pip version 20.2.4; however, version 21.3 is available.\n",
      "You should consider upgrading via the 'C:\\Users\\elousiren\\anaconda3\\python.exe -m pip install --upgrade pip' command.\n"
     ]
    },
    {
     "name": "stdout",
     "output_type": "stream",
     "text": [
      "\n",
      "Requirement already satisfied: numpy in c:\\users\\elousiren\\appdata\\roaming\\python\\python37\\site-packages (from lightgbm) (1.19.2)\n",
      "Requirement already satisfied: scikit-learn!=0.22.0 in c:\\users\\elousiren\\anaconda3\\lib\\site-packages (from lightgbm) (0.22.1)\n",
      "Requirement already satisfied: scipy in c:\\users\\elousiren\\appdata\\roaming\\python\\python37\\site-packages (from lightgbm) (1.5.3)\n",
      "Requirement already satisfied: wheel in c:\\users\\elousiren\\anaconda3\\lib\\site-packages (from lightgbm) (0.34.2)\n",
      "Requirement already satisfied: joblib>=0.11 in c:\\users\\elousiren\\anaconda3\\lib\\site-packages (from scikit-learn!=0.22.0->lightgbm) (0.14.1)\n"
     ]
    }
   ],
   "source": [
    "!pip install lightgbm"
   ]
  },
  {
   "cell_type": "code",
   "execution_count": 2,
   "metadata": {
    "scrolled": true
   },
   "outputs": [
    {
     "name": "stdout",
     "output_type": "stream",
     "text": [
      "Requirement already satisfied: catboost in c:\\users\\elousiren\\anaconda3\\lib\\site-packages (1.0.0)\n",
      "Requirement already satisfied: matplotlib in c:\\users\\elousiren\\anaconda3\\lib\\site-packages (from catboost) (3.1.3)\n",
      "Requirement already satisfied: plotly in c:\\users\\elousiren\\appdata\\roaming\\python\\python37\\site-packages (from catboost) (4.12.0)\n",
      "Requirement already satisfied: six in c:\\users\\elousiren\\appdata\\roaming\\python\\python37\\site-packages (from catboost) (1.15.0)\n",
      "Requirement already satisfied: numpy>=1.16.0 in c:\\users\\elousiren\\appdata\\roaming\\python\\python37\\site-packages (from catboost) (1.19.2)\n",
      "Requirement already satisfied: graphviz in c:\\users\\elousiren\\anaconda3\\lib\\site-packages (from catboost) (0.17)\n",
      "Requirement already satisfied: pandas>=0.24.0 in c:\\users\\elousiren\\appdata\\roaming\\python\\python37\\site-packages (from catboost) (1.1.3)\n",
      "Requirement already satisfied: scipy in c:\\users\\elousiren\\appdata\\roaming\\python\\python37\\site-packages (from catboost) (1.5.3)\n",
      "Requirement already satisfied: python-dateutil>=2.1 in c:\\users\\elousiren\\appdata\\roaming\\python\\python37\\site-packages (from matplotlib->catboost) (2.8.1)\n",
      "Requirement already satisfied: pyparsing!=2.0.4,!=2.1.2,!=2.1.6,>=2.0.1 in c:\\users\\elousiren\\appdata\\roaming\\python\\python37\\site-packages (from matplotlib->catboost) (2.4.7)\n",
      "Requirement already satisfied: cycler>=0.10 in c:\\users\\elousiren\\anaconda3\\lib\\site-packages (from matplotlib->catboost) (0.10.0)\n",
      "Requirement already satisfied: kiwisolver>=1.0.1 in c:\\users\\elousiren\\anaconda3\\lib\\site-packages (from matplotlib->catboost) (1.1.0)\n",
      "Requirement already satisfied: retrying>=1.3.3 in c:\\users\\elousiren\\appdata\\roaming\\python\\python37\\site-packages (from plotly->catboost) (1.3.3)\n",
      "Requirement already satisfied: pytz>=2017.2 in c:\\users\\elousiren\\appdata\\roaming\\python\\python37\\site-packages (from pandas>=0.24.0->catboost) (2020.1)\n",
      "Requirement already satisfied: setuptools in c:\\users\\elousiren\\anaconda3\\lib\\site-packages (from kiwisolver>=1.0.1->matplotlib->catboost) (45.2.0.post20200210)\n"
     ]
    },
    {
     "name": "stderr",
     "output_type": "stream",
     "text": [
      "WARNING: You are using pip version 20.2.4; however, version 21.3 is available.\n",
      "You should consider upgrading via the 'C:\\Users\\elousiren\\anaconda3\\python.exe -m pip install --upgrade pip' command.\n"
     ]
    }
   ],
   "source": [
    "!pip install catboost"
   ]
  },
  {
   "cell_type": "code",
   "execution_count": 3,
   "metadata": {},
   "outputs": [],
   "source": [
    "import pandas as pd\n",
    "import numpy as np\n",
    "import matplotlib as mpl\n",
    "import matplotlib.pyplot as plt\n",
    "import seaborn as sns\n",
    "import scipy.stats as st\n",
    "from scipy.stats import probplot, ks_2samp\n",
    "from sklearn.ensemble import RandomForestClassifier\n",
    "from sklearn.metrics import roc_auc_score, auc\n",
    "from sklearn.pipeline import Pipeline\n",
    "from sklearn.preprocessing import StandardScaler, OneHotEncoder\n",
    "from sklearn.compose import ColumnTransformer\n",
    "from sklearn.impute import SimpleImputer\n",
    "import xgboost as xgb\n",
    "import lightgbm as lgb\n",
    "from sklearn.preprocessing import OneHotEncoder\n",
    "from copy import deepcopy\n",
    "import catboost as cb\n",
    "from sklearn.metrics import roc_curve\n",
    "from sklearn.model_selection import train_test_split\n",
    "from typing import List, Tuple, Optional\n",
    "from sklearn.model_selection import KFold, StratifiedKFold, train_test_split, cross_val_score\n",
    "from sklearn.decomposition import PCA\n",
    "from sklearn.model_selection import GroupKFold\n",
    "import math \n",
    "import re "
   ]
  },
  {
   "cell_type": "code",
   "execution_count": 4,
   "metadata": {},
   "outputs": [],
   "source": [
    "train = pd.read_csv(\"C:/Users/elousiren/Desktop/git_presentation/playground/gb/sport/3/assignment_2_train.csv\")\n",
    "test = pd.read_csv(\"C:/Users/elousiren/Desktop/git_presentation/playground/gb/sport/3/assignment_2_test.csv\")"
   ]
  },
  {
   "cell_type": "code",
   "execution_count": 5,
   "metadata": {},
   "outputs": [
    {
     "data": {
      "text/html": [
       "<div>\n",
       "<style scoped>\n",
       "    .dataframe tbody tr th:only-of-type {\n",
       "        vertical-align: middle;\n",
       "    }\n",
       "\n",
       "    .dataframe tbody tr th {\n",
       "        vertical-align: top;\n",
       "    }\n",
       "\n",
       "    .dataframe thead th {\n",
       "        text-align: right;\n",
       "    }\n",
       "</style>\n",
       "<table border=\"1\" class=\"dataframe\">\n",
       "  <thead>\n",
       "    <tr style=\"text-align: right;\">\n",
       "      <th></th>\n",
       "      <th>TransactionID</th>\n",
       "      <th>isFraud</th>\n",
       "      <th>TransactionDT</th>\n",
       "      <th>TransactionAmt</th>\n",
       "      <th>ProductCD</th>\n",
       "      <th>card1</th>\n",
       "      <th>card2</th>\n",
       "      <th>card3</th>\n",
       "      <th>card4</th>\n",
       "      <th>card5</th>\n",
       "      <th>...</th>\n",
       "      <th>V330</th>\n",
       "      <th>V331</th>\n",
       "      <th>V332</th>\n",
       "      <th>V333</th>\n",
       "      <th>V334</th>\n",
       "      <th>V335</th>\n",
       "      <th>V336</th>\n",
       "      <th>V337</th>\n",
       "      <th>V338</th>\n",
       "      <th>V339</th>\n",
       "    </tr>\n",
       "  </thead>\n",
       "  <tbody>\n",
       "    <tr>\n",
       "      <th>0</th>\n",
       "      <td>2987000</td>\n",
       "      <td>0</td>\n",
       "      <td>86400</td>\n",
       "      <td>68.5</td>\n",
       "      <td>W</td>\n",
       "      <td>13926</td>\n",
       "      <td>NaN</td>\n",
       "      <td>150.0</td>\n",
       "      <td>discover</td>\n",
       "      <td>142.0</td>\n",
       "      <td>...</td>\n",
       "      <td>NaN</td>\n",
       "      <td>NaN</td>\n",
       "      <td>NaN</td>\n",
       "      <td>NaN</td>\n",
       "      <td>NaN</td>\n",
       "      <td>NaN</td>\n",
       "      <td>NaN</td>\n",
       "      <td>NaN</td>\n",
       "      <td>NaN</td>\n",
       "      <td>NaN</td>\n",
       "    </tr>\n",
       "    <tr>\n",
       "      <th>1</th>\n",
       "      <td>2987001</td>\n",
       "      <td>0</td>\n",
       "      <td>86401</td>\n",
       "      <td>29.0</td>\n",
       "      <td>W</td>\n",
       "      <td>2755</td>\n",
       "      <td>404.0</td>\n",
       "      <td>150.0</td>\n",
       "      <td>mastercard</td>\n",
       "      <td>102.0</td>\n",
       "      <td>...</td>\n",
       "      <td>NaN</td>\n",
       "      <td>NaN</td>\n",
       "      <td>NaN</td>\n",
       "      <td>NaN</td>\n",
       "      <td>NaN</td>\n",
       "      <td>NaN</td>\n",
       "      <td>NaN</td>\n",
       "      <td>NaN</td>\n",
       "      <td>NaN</td>\n",
       "      <td>NaN</td>\n",
       "    </tr>\n",
       "    <tr>\n",
       "      <th>2</th>\n",
       "      <td>2987002</td>\n",
       "      <td>0</td>\n",
       "      <td>86469</td>\n",
       "      <td>59.0</td>\n",
       "      <td>W</td>\n",
       "      <td>4663</td>\n",
       "      <td>490.0</td>\n",
       "      <td>150.0</td>\n",
       "      <td>visa</td>\n",
       "      <td>166.0</td>\n",
       "      <td>...</td>\n",
       "      <td>NaN</td>\n",
       "      <td>NaN</td>\n",
       "      <td>NaN</td>\n",
       "      <td>NaN</td>\n",
       "      <td>NaN</td>\n",
       "      <td>NaN</td>\n",
       "      <td>NaN</td>\n",
       "      <td>NaN</td>\n",
       "      <td>NaN</td>\n",
       "      <td>NaN</td>\n",
       "    </tr>\n",
       "    <tr>\n",
       "      <th>3</th>\n",
       "      <td>2987003</td>\n",
       "      <td>0</td>\n",
       "      <td>86499</td>\n",
       "      <td>50.0</td>\n",
       "      <td>W</td>\n",
       "      <td>18132</td>\n",
       "      <td>567.0</td>\n",
       "      <td>150.0</td>\n",
       "      <td>mastercard</td>\n",
       "      <td>117.0</td>\n",
       "      <td>...</td>\n",
       "      <td>NaN</td>\n",
       "      <td>NaN</td>\n",
       "      <td>NaN</td>\n",
       "      <td>NaN</td>\n",
       "      <td>NaN</td>\n",
       "      <td>NaN</td>\n",
       "      <td>NaN</td>\n",
       "      <td>NaN</td>\n",
       "      <td>NaN</td>\n",
       "      <td>NaN</td>\n",
       "    </tr>\n",
       "    <tr>\n",
       "      <th>4</th>\n",
       "      <td>2987004</td>\n",
       "      <td>0</td>\n",
       "      <td>86506</td>\n",
       "      <td>50.0</td>\n",
       "      <td>H</td>\n",
       "      <td>4497</td>\n",
       "      <td>514.0</td>\n",
       "      <td>150.0</td>\n",
       "      <td>mastercard</td>\n",
       "      <td>102.0</td>\n",
       "      <td>...</td>\n",
       "      <td>0.0</td>\n",
       "      <td>0.0</td>\n",
       "      <td>0.0</td>\n",
       "      <td>0.0</td>\n",
       "      <td>0.0</td>\n",
       "      <td>0.0</td>\n",
       "      <td>0.0</td>\n",
       "      <td>0.0</td>\n",
       "      <td>0.0</td>\n",
       "      <td>0.0</td>\n",
       "    </tr>\n",
       "  </tbody>\n",
       "</table>\n",
       "<p>5 rows × 394 columns</p>\n",
       "</div>"
      ],
      "text/plain": [
       "   TransactionID  isFraud  TransactionDT  TransactionAmt ProductCD  card1  \\\n",
       "0        2987000        0          86400            68.5         W  13926   \n",
       "1        2987001        0          86401            29.0         W   2755   \n",
       "2        2987002        0          86469            59.0         W   4663   \n",
       "3        2987003        0          86499            50.0         W  18132   \n",
       "4        2987004        0          86506            50.0         H   4497   \n",
       "\n",
       "   card2  card3       card4  card5  ... V330  V331  V332  V333  V334 V335  \\\n",
       "0    NaN  150.0    discover  142.0  ...  NaN   NaN   NaN   NaN   NaN  NaN   \n",
       "1  404.0  150.0  mastercard  102.0  ...  NaN   NaN   NaN   NaN   NaN  NaN   \n",
       "2  490.0  150.0        visa  166.0  ...  NaN   NaN   NaN   NaN   NaN  NaN   \n",
       "3  567.0  150.0  mastercard  117.0  ...  NaN   NaN   NaN   NaN   NaN  NaN   \n",
       "4  514.0  150.0  mastercard  102.0  ...  0.0   0.0   0.0   0.0   0.0  0.0   \n",
       "\n",
       "  V336  V337  V338  V339  \n",
       "0  NaN   NaN   NaN   NaN  \n",
       "1  NaN   NaN   NaN   NaN  \n",
       "2  NaN   NaN   NaN   NaN  \n",
       "3  NaN   NaN   NaN   NaN  \n",
       "4  0.0   0.0   0.0   0.0  \n",
       "\n",
       "[5 rows x 394 columns]"
      ]
     },
     "execution_count": 5,
     "metadata": {},
     "output_type": "execute_result"
    }
   ],
   "source": [
    "train.head()"
   ]
  },
  {
   "cell_type": "code",
   "execution_count": 6,
   "metadata": {},
   "outputs": [
    {
     "data": {
      "text/html": [
       "<div>\n",
       "<style scoped>\n",
       "    .dataframe tbody tr th:only-of-type {\n",
       "        vertical-align: middle;\n",
       "    }\n",
       "\n",
       "    .dataframe tbody tr th {\n",
       "        vertical-align: top;\n",
       "    }\n",
       "\n",
       "    .dataframe thead th {\n",
       "        text-align: right;\n",
       "    }\n",
       "</style>\n",
       "<table border=\"1\" class=\"dataframe\">\n",
       "  <thead>\n",
       "    <tr style=\"text-align: right;\">\n",
       "      <th></th>\n",
       "      <th>TransactionID</th>\n",
       "      <th>isFraud</th>\n",
       "      <th>TransactionDT</th>\n",
       "      <th>TransactionAmt</th>\n",
       "      <th>ProductCD</th>\n",
       "      <th>card1</th>\n",
       "      <th>card2</th>\n",
       "      <th>card3</th>\n",
       "      <th>card4</th>\n",
       "      <th>card5</th>\n",
       "      <th>...</th>\n",
       "      <th>V330</th>\n",
       "      <th>V331</th>\n",
       "      <th>V332</th>\n",
       "      <th>V333</th>\n",
       "      <th>V334</th>\n",
       "      <th>V335</th>\n",
       "      <th>V336</th>\n",
       "      <th>V337</th>\n",
       "      <th>V338</th>\n",
       "      <th>V339</th>\n",
       "    </tr>\n",
       "  </thead>\n",
       "  <tbody>\n",
       "    <tr>\n",
       "      <th>0</th>\n",
       "      <td>3287000</td>\n",
       "      <td>1</td>\n",
       "      <td>7415038</td>\n",
       "      <td>226.00</td>\n",
       "      <td>W</td>\n",
       "      <td>12473</td>\n",
       "      <td>555.0</td>\n",
       "      <td>150.0</td>\n",
       "      <td>visa</td>\n",
       "      <td>226.0</td>\n",
       "      <td>...</td>\n",
       "      <td>NaN</td>\n",
       "      <td>NaN</td>\n",
       "      <td>NaN</td>\n",
       "      <td>NaN</td>\n",
       "      <td>NaN</td>\n",
       "      <td>NaN</td>\n",
       "      <td>NaN</td>\n",
       "      <td>NaN</td>\n",
       "      <td>NaN</td>\n",
       "      <td>NaN</td>\n",
       "    </tr>\n",
       "    <tr>\n",
       "      <th>1</th>\n",
       "      <td>3287001</td>\n",
       "      <td>0</td>\n",
       "      <td>7415054</td>\n",
       "      <td>3072.00</td>\n",
       "      <td>W</td>\n",
       "      <td>15651</td>\n",
       "      <td>417.0</td>\n",
       "      <td>150.0</td>\n",
       "      <td>visa</td>\n",
       "      <td>226.0</td>\n",
       "      <td>...</td>\n",
       "      <td>NaN</td>\n",
       "      <td>NaN</td>\n",
       "      <td>NaN</td>\n",
       "      <td>NaN</td>\n",
       "      <td>NaN</td>\n",
       "      <td>NaN</td>\n",
       "      <td>NaN</td>\n",
       "      <td>NaN</td>\n",
       "      <td>NaN</td>\n",
       "      <td>NaN</td>\n",
       "    </tr>\n",
       "    <tr>\n",
       "      <th>2</th>\n",
       "      <td>3287002</td>\n",
       "      <td>0</td>\n",
       "      <td>7415081</td>\n",
       "      <td>319.95</td>\n",
       "      <td>W</td>\n",
       "      <td>13844</td>\n",
       "      <td>583.0</td>\n",
       "      <td>150.0</td>\n",
       "      <td>visa</td>\n",
       "      <td>226.0</td>\n",
       "      <td>...</td>\n",
       "      <td>NaN</td>\n",
       "      <td>NaN</td>\n",
       "      <td>NaN</td>\n",
       "      <td>NaN</td>\n",
       "      <td>NaN</td>\n",
       "      <td>NaN</td>\n",
       "      <td>NaN</td>\n",
       "      <td>NaN</td>\n",
       "      <td>NaN</td>\n",
       "      <td>NaN</td>\n",
       "    </tr>\n",
       "    <tr>\n",
       "      <th>3</th>\n",
       "      <td>3287003</td>\n",
       "      <td>0</td>\n",
       "      <td>7415111</td>\n",
       "      <td>171.00</td>\n",
       "      <td>W</td>\n",
       "      <td>11556</td>\n",
       "      <td>309.0</td>\n",
       "      <td>150.0</td>\n",
       "      <td>visa</td>\n",
       "      <td>226.0</td>\n",
       "      <td>...</td>\n",
       "      <td>NaN</td>\n",
       "      <td>NaN</td>\n",
       "      <td>NaN</td>\n",
       "      <td>NaN</td>\n",
       "      <td>NaN</td>\n",
       "      <td>NaN</td>\n",
       "      <td>NaN</td>\n",
       "      <td>NaN</td>\n",
       "      <td>NaN</td>\n",
       "      <td>NaN</td>\n",
       "    </tr>\n",
       "    <tr>\n",
       "      <th>4</th>\n",
       "      <td>3287004</td>\n",
       "      <td>0</td>\n",
       "      <td>7415112</td>\n",
       "      <td>107.95</td>\n",
       "      <td>W</td>\n",
       "      <td>10985</td>\n",
       "      <td>555.0</td>\n",
       "      <td>150.0</td>\n",
       "      <td>visa</td>\n",
       "      <td>226.0</td>\n",
       "      <td>...</td>\n",
       "      <td>NaN</td>\n",
       "      <td>NaN</td>\n",
       "      <td>NaN</td>\n",
       "      <td>NaN</td>\n",
       "      <td>NaN</td>\n",
       "      <td>NaN</td>\n",
       "      <td>NaN</td>\n",
       "      <td>NaN</td>\n",
       "      <td>NaN</td>\n",
       "      <td>NaN</td>\n",
       "    </tr>\n",
       "  </tbody>\n",
       "</table>\n",
       "<p>5 rows × 394 columns</p>\n",
       "</div>"
      ],
      "text/plain": [
       "   TransactionID  isFraud  TransactionDT  TransactionAmt ProductCD  card1  \\\n",
       "0        3287000        1        7415038          226.00         W  12473   \n",
       "1        3287001        0        7415054         3072.00         W  15651   \n",
       "2        3287002        0        7415081          319.95         W  13844   \n",
       "3        3287003        0        7415111          171.00         W  11556   \n",
       "4        3287004        0        7415112          107.95         W  10985   \n",
       "\n",
       "   card2  card3 card4  card5  ... V330  V331  V332  V333  V334 V335 V336  \\\n",
       "0  555.0  150.0  visa  226.0  ...  NaN   NaN   NaN   NaN   NaN  NaN  NaN   \n",
       "1  417.0  150.0  visa  226.0  ...  NaN   NaN   NaN   NaN   NaN  NaN  NaN   \n",
       "2  583.0  150.0  visa  226.0  ...  NaN   NaN   NaN   NaN   NaN  NaN  NaN   \n",
       "3  309.0  150.0  visa  226.0  ...  NaN   NaN   NaN   NaN   NaN  NaN  NaN   \n",
       "4  555.0  150.0  visa  226.0  ...  NaN   NaN   NaN   NaN   NaN  NaN  NaN   \n",
       "\n",
       "   V337  V338  V339  \n",
       "0   NaN   NaN   NaN  \n",
       "1   NaN   NaN   NaN  \n",
       "2   NaN   NaN   NaN  \n",
       "3   NaN   NaN   NaN  \n",
       "4   NaN   NaN   NaN  \n",
       "\n",
       "[5 rows x 394 columns]"
      ]
     },
     "execution_count": 6,
     "metadata": {},
     "output_type": "execute_result"
    }
   ],
   "source": [
    "test.head()"
   ]
  },
  {
   "cell_type": "code",
   "execution_count": 7,
   "metadata": {},
   "outputs": [],
   "source": [
    "y_train = train['isFraud'] \n",
    "y_test = test['isFraud'] \n",
    "x_train = train.drop('isFraud',axis=1)\n",
    "x_test = test.drop('isFraud',axis=1)\n",
    "cat_columns = list(x_test.select_dtypes(include=[np.object]))\n",
    "for c in cat_columns:\n",
    "    x_train[c] = x_train[c].fillna('missing').astype('category')\n",
    "    x_test[c] = x_test[c].fillna('missing').astype('category')"
   ]
  },
  {
   "cell_type": "markdown",
   "metadata": {},
   "source": [
    "### Задание 0: выбрать любую модель машнного обучения и зафиксировать любой тип валидации. Обучить базовую модель и зафиксировать базовое качество модели. В каждом следующем задании нужно будет обучить выбранную модель и оценивать ее качество на зафиксированной схеме валидации. После каждого задания, требуется сделать вывод о достигаемом качестве модели, по сравнению с качестом из предыдущего шага."
   ]
  },
  {
   "cell_type": "code",
   "execution_count": 8,
   "metadata": {},
   "outputs": [],
   "source": [
    "x_valid, x_def = train_test_split(x_train, train_size=0.5, random_state=42)\n",
    "y_valid, y_def = train_test_split(y_train, train_size=0.5, random_state=42)"
   ]
  },
  {
   "cell_type": "code",
   "execution_count": 9,
   "metadata": {},
   "outputs": [],
   "source": [
    "params = {\n",
    "    \"n_estimators\": 1000,\n",
    "    \"loss_function\": \"Logloss\",\n",
    "    \"eval_metric\": \"AUC\",\n",
    "    \"task_type\": \"CPU\",\n",
    "    \"max_bin\": 10,\n",
    "    \"verbose\": 50,\n",
    "    \"max_depth\": 6,\n",
    "    \"l2_leaf_reg\": 100,\n",
    "    \"early_stopping_rounds\": 100,\n",
    "    \"thread_count\": 6,\n",
    "    \"random_seed\": 42\n",
    "}"
   ]
  },
  {
   "cell_type": "code",
   "execution_count": 10,
   "metadata": {},
   "outputs": [],
   "source": [
    "cat_f = ['ProductCD','card4','card6','P_emaildomain','R_emaildomain','M1','M2','M3','M4','M5','M6','M7','M8','M9']\n",
    "def cat_check():\n",
    "    global x_train, y_train, x_valid, x_test, x_def, y_valid, y_test, y_def, cat_f\n",
    "    cat_cat = cb.CatBoostClassifier(**params)\n",
    "    cat_cat.fit(x_train, y_train,\n",
    "               eval_set=[(x_train, y_train), (x_test, y_test)],\n",
    "               cat_features = cat_f)\n",
    "\n",
    "    train_score = roc_auc_score(y_train, cat_cat.predict_proba(x_train)[:,1])\n",
    "    valid_score= roc_auc_score(y_valid, cat_cat.predict_proba(x_valid)[:,1])\n",
    "    test_score= roc_auc_score(y_test, cat_cat.predict_proba(x_test)[:,1])\n",
    "    def_score= roc_auc_score(y_def, cat_cat.predict_proba(x_def)[:,1])\n",
    "\n",
    "\n",
    "    print(f\"Train-score: {round(train_score, 3)}, Valid-score: {round(test_score, 3)}, отложенная выборка--score: {round(def_score, 3)}, Test-score(LD): {round(valid_score, 3)}\")"
   ]
  },
  {
   "cell_type": "code",
   "execution_count": 11,
   "metadata": {},
   "outputs": [
    {
     "name": "stdout",
     "output_type": "stream",
     "text": [
      "0:\ttest: 0.6681376\ttest1: 0.6614100\tbest: 0.6614100 (0)\ttotal: 861ms\tremaining: 14m 20s\n",
      "50:\ttest: 0.8479427\ttest1: 0.8269280\tbest: 0.8274266 (49)\ttotal: 30.5s\tremaining: 9m 27s\n",
      "100:\ttest: 0.8676333\ttest1: 0.8409268\tbest: 0.8409268 (100)\ttotal: 1m\tremaining: 8m 54s\n",
      "150:\ttest: 0.8786981\ttest1: 0.8452584\tbest: 0.8455145 (145)\ttotal: 1m 29s\tremaining: 8m 23s\n",
      "200:\ttest: 0.8861514\ttest1: 0.8510249\tbest: 0.8511748 (199)\ttotal: 1m 59s\tremaining: 7m 53s\n",
      "250:\ttest: 0.8904359\ttest1: 0.8549281\tbest: 0.8549281 (250)\ttotal: 2m 27s\tremaining: 7m 20s\n",
      "300:\ttest: 0.8938660\ttest1: 0.8574695\tbest: 0.8574695 (300)\ttotal: 2m 56s\tremaining: 6m 49s\n",
      "350:\ttest: 0.8967074\ttest1: 0.8590071\tbest: 0.8590071 (350)\ttotal: 3m 25s\tremaining: 6m 20s\n",
      "400:\ttest: 0.8986406\ttest1: 0.8599462\tbest: 0.8599740 (392)\ttotal: 3m 54s\tremaining: 5m 50s\n",
      "450:\ttest: 0.8998571\ttest1: 0.8604758\tbest: 0.8605001 (448)\ttotal: 4m 22s\tremaining: 5m 20s\n",
      "500:\ttest: 0.9012979\ttest1: 0.8615548\tbest: 0.8615793 (494)\ttotal: 4m 51s\tremaining: 4m 50s\n",
      "550:\ttest: 0.9033801\ttest1: 0.8621494\tbest: 0.8622392 (544)\ttotal: 5m 21s\tremaining: 4m 21s\n",
      "600:\ttest: 0.9046184\ttest1: 0.8629243\tbest: 0.8630036 (578)\ttotal: 5m 50s\tremaining: 3m 52s\n",
      "650:\ttest: 0.9057112\ttest1: 0.8634781\tbest: 0.8634796 (649)\ttotal: 6m 19s\tremaining: 3m 23s\n",
      "700:\ttest: 0.9057179\ttest1: 0.8633905\tbest: 0.8634796 (649)\ttotal: 6m 48s\tremaining: 2m 54s\n",
      "Stopped by overfitting detector  (100 iterations wait)\n",
      "\n",
      "bestTest = 0.8634796424\n",
      "bestIteration = 649\n",
      "\n",
      "Shrink model to first 650 iterations.\n",
      "Train-score: 0.906, Valid-score: 0.863, отложенная выборка--score: 0.908, Test-score(LD): 0.904\n"
     ]
    }
   ],
   "source": [
    "cat_check()"
   ]
  },
  {
   "cell_type": "markdown",
   "metadata": {},
   "source": [
    "### Задание 1: признак TransactionDT - это смещение в секундах относительно базовой даты. Базовая дата - 2017-12-01, преобразовать признак TransactionDT в datetime, прибавив к базовой дате исходное значение признака. Из полученного признака выделить год, месяц, день недели, час, день."
   ]
  },
  {
   "cell_type": "code",
   "execution_count": 12,
   "metadata": {},
   "outputs": [],
   "source": [
    "def datamaker(df):\n",
    "    df['TransactionDT'] = pd.to_datetime(df['TransactionDT'], unit ='s',origin='2017-12-01') \n",
    "    df['TransactionDT_year'] = df['TransactionDT']\n",
    "    df['TransactionDT_month'] = df['TransactionDT'].dt.month\n",
    "    df['TransactionDT_weekday'] = df['TransactionDT'].dt.weekday\n",
    "    df['TransactionDT_year_hour'] = df['TransactionDT'].dt.hour\n",
    "    df['TransactionDT_year_day'] = df['TransactionDT'].dt.day"
   ]
  },
  {
   "cell_type": "code",
   "execution_count": 13,
   "metadata": {
    "scrolled": true
   },
   "outputs": [
    {
     "name": "stderr",
     "output_type": "stream",
     "text": [
      "C:\\Users\\elousiren\\AppData\\Roaming\\Python\\Python37\\site-packages\\ipykernel_launcher.py:2: SettingWithCopyWarning: \n",
      "A value is trying to be set on a copy of a slice from a DataFrame.\n",
      "Try using .loc[row_indexer,col_indexer] = value instead\n",
      "\n",
      "See the caveats in the documentation: https://pandas.pydata.org/pandas-docs/stable/user_guide/indexing.html#returning-a-view-versus-a-copy\n",
      "  \n",
      "C:\\Users\\elousiren\\AppData\\Roaming\\Python\\Python37\\site-packages\\ipykernel_launcher.py:3: SettingWithCopyWarning: \n",
      "A value is trying to be set on a copy of a slice from a DataFrame.\n",
      "Try using .loc[row_indexer,col_indexer] = value instead\n",
      "\n",
      "See the caveats in the documentation: https://pandas.pydata.org/pandas-docs/stable/user_guide/indexing.html#returning-a-view-versus-a-copy\n",
      "  This is separate from the ipykernel package so we can avoid doing imports until\n",
      "C:\\Users\\elousiren\\AppData\\Roaming\\Python\\Python37\\site-packages\\ipykernel_launcher.py:4: SettingWithCopyWarning: \n",
      "A value is trying to be set on a copy of a slice from a DataFrame.\n",
      "Try using .loc[row_indexer,col_indexer] = value instead\n",
      "\n",
      "See the caveats in the documentation: https://pandas.pydata.org/pandas-docs/stable/user_guide/indexing.html#returning-a-view-versus-a-copy\n",
      "  after removing the cwd from sys.path.\n",
      "C:\\Users\\elousiren\\AppData\\Roaming\\Python\\Python37\\site-packages\\ipykernel_launcher.py:5: SettingWithCopyWarning: \n",
      "A value is trying to be set on a copy of a slice from a DataFrame.\n",
      "Try using .loc[row_indexer,col_indexer] = value instead\n",
      "\n",
      "See the caveats in the documentation: https://pandas.pydata.org/pandas-docs/stable/user_guide/indexing.html#returning-a-view-versus-a-copy\n",
      "  \"\"\"\n",
      "C:\\Users\\elousiren\\AppData\\Roaming\\Python\\Python37\\site-packages\\ipykernel_launcher.py:6: SettingWithCopyWarning: \n",
      "A value is trying to be set on a copy of a slice from a DataFrame.\n",
      "Try using .loc[row_indexer,col_indexer] = value instead\n",
      "\n",
      "See the caveats in the documentation: https://pandas.pydata.org/pandas-docs/stable/user_guide/indexing.html#returning-a-view-versus-a-copy\n",
      "  \n",
      "C:\\Users\\elousiren\\AppData\\Roaming\\Python\\Python37\\site-packages\\ipykernel_launcher.py:7: SettingWithCopyWarning: \n",
      "A value is trying to be set on a copy of a slice from a DataFrame.\n",
      "Try using .loc[row_indexer,col_indexer] = value instead\n",
      "\n",
      "See the caveats in the documentation: https://pandas.pydata.org/pandas-docs/stable/user_guide/indexing.html#returning-a-view-versus-a-copy\n",
      "  import sys\n"
     ]
    }
   ],
   "source": [
    "datamaker(x_train)\n",
    "datamaker(x_valid)\n",
    "datamaker(x_test)\n",
    "datamaker(x_def)"
   ]
  },
  {
   "cell_type": "code",
   "execution_count": 14,
   "metadata": {},
   "outputs": [
    {
     "name": "stdout",
     "output_type": "stream",
     "text": [
      "0:\ttest: 0.6508269\ttest1: 0.6590844\tbest: 0.6590844 (0)\ttotal: 618ms\tremaining: 10m 17s\n",
      "50:\ttest: 0.8492334\ttest1: 0.8289377\tbest: 0.8312913 (39)\ttotal: 30.1s\tremaining: 9m 20s\n",
      "100:\ttest: 0.8698990\ttest1: 0.8410371\tbest: 0.8422936 (79)\ttotal: 59.6s\tremaining: 8m 50s\n",
      "150:\ttest: 0.8786690\ttest1: 0.8420903\tbest: 0.8422936 (79)\ttotal: 1m 29s\tremaining: 8m 22s\n",
      "200:\ttest: 0.8870419\ttest1: 0.8521060\tbest: 0.8521060 (200)\ttotal: 1m 58s\tremaining: 7m 52s\n",
      "250:\ttest: 0.8911976\ttest1: 0.8548054\tbest: 0.8548095 (249)\ttotal: 2m 27s\tremaining: 7m 20s\n",
      "300:\ttest: 0.8944086\ttest1: 0.8569943\tbest: 0.8569943 (300)\ttotal: 2m 56s\tremaining: 6m 50s\n",
      "350:\ttest: 0.8978073\ttest1: 0.8591501\tbest: 0.8591501 (350)\ttotal: 3m 26s\tremaining: 6m 21s\n",
      "400:\ttest: 0.8997935\ttest1: 0.8603193\tbest: 0.8603193 (400)\ttotal: 3m 55s\tremaining: 5m 51s\n",
      "450:\ttest: 0.9011300\ttest1: 0.8611672\tbest: 0.8612258 (444)\ttotal: 4m 24s\tremaining: 5m 22s\n",
      "500:\ttest: 0.9035148\ttest1: 0.8622636\tbest: 0.8622636 (500)\ttotal: 4m 53s\tremaining: 4m 52s\n",
      "550:\ttest: 0.9049752\ttest1: 0.8626717\tbest: 0.8627151 (543)\ttotal: 5m 21s\tremaining: 4m 22s\n",
      "600:\ttest: 0.9064815\ttest1: 0.8631660\tbest: 0.8631966 (595)\ttotal: 5m 49s\tremaining: 3m 52s\n",
      "650:\ttest: 0.9084298\ttest1: 0.8642290\tbest: 0.8642651 (647)\ttotal: 6m 18s\tremaining: 3m 22s\n",
      "700:\ttest: 0.9092273\ttest1: 0.8644615\tbest: 0.8644615 (700)\ttotal: 6m 46s\tremaining: 2m 53s\n",
      "750:\ttest: 0.9092730\ttest1: 0.8643870\tbest: 0.8644928 (703)\ttotal: 7m 14s\tremaining: 2m 23s\n",
      "800:\ttest: 0.9092874\ttest1: 0.8642208\tbest: 0.8644928 (703)\ttotal: 7m 41s\tremaining: 1m 54s\n",
      "Stopped by overfitting detector  (100 iterations wait)\n",
      "\n",
      "bestTest = 0.8644927885\n",
      "bestIteration = 703\n",
      "\n",
      "Shrink model to first 704 iterations.\n",
      "Train-score: 0.909, Valid-score: 0.864, отложенная выборка--score: 0.911, Test-score(LD): 0.907\n"
     ]
    }
   ],
   "source": [
    "cat_check()"
   ]
  },
  {
   "cell_type": "markdown",
   "metadata": {},
   "source": [
    "### Задание 2: сделать конкатенацию признаков\n",
    "* card1 + card2;\n",
    "* card1 + card2 + card_3 + card_5;\n",
    "* card1 + card2 + card_3 + card_5 + addr1 + addr2\n",
    "Рассматривать их как категориальных признаки."
   ]
  },
  {
   "cell_type": "code",
   "execution_count": 15,
   "metadata": {},
   "outputs": [],
   "source": [
    "def featmaker(df):\n",
    "    df['card1-2'] = df['card1'].fillna('').astype('string')+ df['card2'].fillna('').astype('string')\n",
    "    df['card1-5'] = df['card1-2'] +df['card3'].fillna('').astype('string')+ df['card5'].fillna('').astype('string')\n",
    "    df['card1-card5_addr1-2']= df['card1-5'].fillna('').astype('string') + df['addr1'].fillna('').astype('string') + df['addr2'].fillna('').astype('string')\n",
    "    df['card1-2']=df['card1-2'].astype('category')\n",
    "    df['card1-5'] = df['card1-5'].astype('category')\n",
    "    df['card1-card5_addr1-2'] = df['card1-card5_addr1-2'].astype('category')"
   ]
  },
  {
   "cell_type": "code",
   "execution_count": 16,
   "metadata": {},
   "outputs": [
    {
     "name": "stderr",
     "output_type": "stream",
     "text": [
      "C:\\Users\\elousiren\\AppData\\Roaming\\Python\\Python37\\site-packages\\ipykernel_launcher.py:2: SettingWithCopyWarning: \n",
      "A value is trying to be set on a copy of a slice from a DataFrame.\n",
      "Try using .loc[row_indexer,col_indexer] = value instead\n",
      "\n",
      "See the caveats in the documentation: https://pandas.pydata.org/pandas-docs/stable/user_guide/indexing.html#returning-a-view-versus-a-copy\n",
      "  \n",
      "C:\\Users\\elousiren\\AppData\\Roaming\\Python\\Python37\\site-packages\\ipykernel_launcher.py:3: SettingWithCopyWarning: \n",
      "A value is trying to be set on a copy of a slice from a DataFrame.\n",
      "Try using .loc[row_indexer,col_indexer] = value instead\n",
      "\n",
      "See the caveats in the documentation: https://pandas.pydata.org/pandas-docs/stable/user_guide/indexing.html#returning-a-view-versus-a-copy\n",
      "  This is separate from the ipykernel package so we can avoid doing imports until\n",
      "C:\\Users\\elousiren\\AppData\\Roaming\\Python\\Python37\\site-packages\\ipykernel_launcher.py:4: SettingWithCopyWarning: \n",
      "A value is trying to be set on a copy of a slice from a DataFrame.\n",
      "Try using .loc[row_indexer,col_indexer] = value instead\n",
      "\n",
      "See the caveats in the documentation: https://pandas.pydata.org/pandas-docs/stable/user_guide/indexing.html#returning-a-view-versus-a-copy\n",
      "  after removing the cwd from sys.path.\n",
      "C:\\Users\\elousiren\\AppData\\Roaming\\Python\\Python37\\site-packages\\ipykernel_launcher.py:5: SettingWithCopyWarning: \n",
      "A value is trying to be set on a copy of a slice from a DataFrame.\n",
      "Try using .loc[row_indexer,col_indexer] = value instead\n",
      "\n",
      "See the caveats in the documentation: https://pandas.pydata.org/pandas-docs/stable/user_guide/indexing.html#returning-a-view-versus-a-copy\n",
      "  \"\"\"\n",
      "C:\\Users\\elousiren\\AppData\\Roaming\\Python\\Python37\\site-packages\\ipykernel_launcher.py:6: SettingWithCopyWarning: \n",
      "A value is trying to be set on a copy of a slice from a DataFrame.\n",
      "Try using .loc[row_indexer,col_indexer] = value instead\n",
      "\n",
      "See the caveats in the documentation: https://pandas.pydata.org/pandas-docs/stable/user_guide/indexing.html#returning-a-view-versus-a-copy\n",
      "  \n",
      "C:\\Users\\elousiren\\AppData\\Roaming\\Python\\Python37\\site-packages\\ipykernel_launcher.py:7: SettingWithCopyWarning: \n",
      "A value is trying to be set on a copy of a slice from a DataFrame.\n",
      "Try using .loc[row_indexer,col_indexer] = value instead\n",
      "\n",
      "See the caveats in the documentation: https://pandas.pydata.org/pandas-docs/stable/user_guide/indexing.html#returning-a-view-versus-a-copy\n",
      "  import sys\n"
     ]
    }
   ],
   "source": [
    "featmaker(x_train)\n",
    "featmaker(x_valid)\n",
    "featmaker(x_test)\n",
    "featmaker(x_def)"
   ]
  },
  {
   "cell_type": "code",
   "execution_count": 17,
   "metadata": {},
   "outputs": [
    {
     "name": "stdout",
     "output_type": "stream",
     "text": [
      "0:\ttest: 0.6247310\ttest1: 0.6497870\tbest: 0.6497870 (0)\ttotal: 823ms\tremaining: 13m 42s\n",
      "50:\ttest: 0.9026794\ttest1: 0.8454265\tbest: 0.8466224 (47)\ttotal: 33.7s\tremaining: 10m 27s\n",
      "100:\ttest: 0.9634089\ttest1: 0.8438340\tbest: 0.8473894 (53)\ttotal: 1m 9s\tremaining: 10m 18s\n",
      "150:\ttest: 0.9718480\ttest1: 0.8507564\tbest: 0.8507564 (150)\ttotal: 1m 45s\tremaining: 9m 55s\n",
      "200:\ttest: 0.9748814\ttest1: 0.8564833\tbest: 0.8565303 (193)\ttotal: 2m 21s\tremaining: 9m 23s\n",
      "250:\ttest: 0.9783842\ttest1: 0.8610093\tbest: 0.8610093 (250)\ttotal: 2m 57s\tremaining: 8m 49s\n",
      "300:\ttest: 0.9806713\ttest1: 0.8639718\tbest: 0.8639718 (300)\ttotal: 3m 33s\tremaining: 8m 15s\n",
      "350:\ttest: 0.9825122\ttest1: 0.8659148\tbest: 0.8660362 (349)\ttotal: 4m 8s\tremaining: 7m 38s\n",
      "400:\ttest: 0.9838527\ttest1: 0.8675708\tbest: 0.8675806 (398)\ttotal: 4m 43s\tremaining: 7m 2s\n",
      "450:\ttest: 0.9845618\ttest1: 0.8685420\tbest: 0.8685502 (445)\ttotal: 5m 17s\tremaining: 6m 26s\n",
      "500:\ttest: 0.9846959\ttest1: 0.8692515\tbest: 0.8692530 (499)\ttotal: 5m 51s\tremaining: 5m 49s\n",
      "550:\ttest: 0.9849447\ttest1: 0.8694876\tbest: 0.8695064 (545)\ttotal: 6m 25s\tremaining: 5m 13s\n",
      "600:\ttest: 0.9849493\ttest1: 0.8695026\tbest: 0.8696198 (556)\ttotal: 6m 57s\tremaining: 4m 37s\n",
      "650:\ttest: 0.9849582\ttest1: 0.8693975\tbest: 0.8696198 (556)\ttotal: 7m 30s\tremaining: 4m 1s\n",
      "Stopped by overfitting detector  (100 iterations wait)\n",
      "\n",
      "bestTest = 0.8696198282\n",
      "bestIteration = 556\n",
      "\n",
      "Shrink model to first 557 iterations.\n",
      "Train-score: 0.985, Valid-score: 0.87, отложенная выборка--score: 0.985, Test-score(LD): 0.985\n"
     ]
    }
   ],
   "source": [
    "cat_f.append('card1-2')\n",
    "cat_f.append('card1-5')\n",
    "cat_f.append('card1-card5_addr1-2')\n",
    "cat_check()"
   ]
  },
  {
   "cell_type": "markdown",
   "metadata": {},
   "source": [
    "###  Задание 3: Сделать FrequencyEncoder для признаков card1 - card6, addr1, addr2."
   ]
  },
  {
   "cell_type": "code",
   "execution_count": 18,
   "metadata": {},
   "outputs": [],
   "source": [
    "def freq_en(df, feature_list = ['card1', 'card2', 'card3', 'card4', 'card5', 'card6', 'addr1', 'addr2']):\n",
    "    for feature in feature_list:\n",
    "        freq_encoder = df[feature].value_counts(normalize=True)\n",
    "        df[feature+\"_freq_enc\"] = df[feature].map(freq_encoder).astype('float64')"
   ]
  },
  {
   "cell_type": "code",
   "execution_count": 19,
   "metadata": {},
   "outputs": [
    {
     "name": "stderr",
     "output_type": "stream",
     "text": [
      "C:\\Users\\elousiren\\AppData\\Roaming\\Python\\Python37\\site-packages\\ipykernel_launcher.py:4: SettingWithCopyWarning: \n",
      "A value is trying to be set on a copy of a slice from a DataFrame.\n",
      "Try using .loc[row_indexer,col_indexer] = value instead\n",
      "\n",
      "See the caveats in the documentation: https://pandas.pydata.org/pandas-docs/stable/user_guide/indexing.html#returning-a-view-versus-a-copy\n",
      "  after removing the cwd from sys.path.\n"
     ]
    }
   ],
   "source": [
    "freq_en(x_train)\n",
    "freq_en(x_valid)\n",
    "freq_en(x_test)\n",
    "freq_en(x_def)"
   ]
  },
  {
   "cell_type": "code",
   "execution_count": 20,
   "metadata": {},
   "outputs": [
    {
     "name": "stdout",
     "output_type": "stream",
     "text": [
      "0:\ttest: 0.6604422\ttest1: 0.5775477\tbest: 0.5775477 (0)\ttotal: 740ms\tremaining: 12m 19s\n",
      "50:\ttest: 0.9027438\ttest1: 0.8411043\tbest: 0.8411043 (50)\ttotal: 33.6s\tremaining: 10m 25s\n",
      "100:\ttest: 0.9560183\ttest1: 0.8486813\tbest: 0.8488393 (97)\ttotal: 1m 8s\tremaining: 10m 5s\n",
      "150:\ttest: 0.9653016\ttest1: 0.8527962\tbest: 0.8527962 (150)\ttotal: 1m 44s\tremaining: 9m 46s\n",
      "200:\ttest: 0.9709006\ttest1: 0.8606645\tbest: 0.8606645 (200)\ttotal: 2m 19s\tremaining: 9m 15s\n",
      "250:\ttest: 0.9739989\ttest1: 0.8628832\tbest: 0.8628832 (250)\ttotal: 2m 55s\tremaining: 8m 44s\n",
      "300:\ttest: 0.9765532\ttest1: 0.8650828\tbest: 0.8653879 (291)\ttotal: 3m 32s\tremaining: 8m 13s\n",
      "350:\ttest: 0.9790961\ttest1: 0.8663608\tbest: 0.8663682 (349)\ttotal: 4m 8s\tremaining: 7m 39s\n",
      "400:\ttest: 0.9804016\ttest1: 0.8674733\tbest: 0.8674733 (400)\ttotal: 4m 44s\tremaining: 7m 4s\n",
      "450:\ttest: 0.9811036\ttest1: 0.8683313\tbest: 0.8683313 (450)\ttotal: 5m 17s\tremaining: 6m 27s\n",
      "500:\ttest: 0.9811367\ttest1: 0.8683570\tbest: 0.8683703 (482)\ttotal: 5m 50s\tremaining: 5m 49s\n",
      "550:\ttest: 0.9811823\ttest1: 0.8683754\tbest: 0.8683900 (542)\ttotal: 6m 24s\tremaining: 5m 13s\n",
      "600:\ttest: 0.9812475\ttest1: 0.8685099\tbest: 0.8685099 (600)\ttotal: 6m 57s\tremaining: 4m 37s\n",
      "650:\ttest: 0.9812430\ttest1: 0.8686581\tbest: 0.8686866 (641)\ttotal: 7m 31s\tremaining: 4m 2s\n",
      "700:\ttest: 0.9812729\ttest1: 0.8687506\tbest: 0.8687779 (690)\ttotal: 8m 4s\tremaining: 3m 26s\n",
      "750:\ttest: 0.9814428\ttest1: 0.8688636\tbest: 0.8688636 (750)\ttotal: 8m 38s\tremaining: 2m 51s\n",
      "800:\ttest: 0.9814403\ttest1: 0.8688614\tbest: 0.8688882 (783)\ttotal: 9m 12s\tremaining: 2m 17s\n",
      "850:\ttest: 0.9815340\ttest1: 0.8688828\tbest: 0.8689595 (818)\ttotal: 9m 45s\tremaining: 1m 42s\n",
      "900:\ttest: 0.9818676\ttest1: 0.8693213\tbest: 0.8693237 (899)\ttotal: 10m 19s\tremaining: 1m 8s\n",
      "950:\ttest: 0.9821629\ttest1: 0.8698892\tbest: 0.8698929 (949)\ttotal: 10m 53s\tremaining: 33.7s\n",
      "999:\ttest: 0.9826026\ttest1: 0.8702488\tbest: 0.8702488 (999)\ttotal: 11m 26s\tremaining: 0us\n",
      "\n",
      "bestTest = 0.8702488361\n",
      "bestIteration = 999\n",
      "\n",
      "Train-score: 0.983, Valid-score: 0.87, отложенная выборка--score: 0.983, Test-score(LD): 0.982\n"
     ]
    }
   ],
   "source": [
    "cat_check()"
   ]
  },
  {
   "cell_type": "markdown",
   "metadata": {},
   "source": [
    "### Задание 4: Создать признаки на основе отношения: TransactionAmt к вычисленной статистике. Статистика - среднее значение / стандартное отклонение TransactionAmt, сгруппированное по card1 - card6, addr1, addr2, и по признакам, созданным в задании 2."
   ]
  },
  {
   "cell_type": "code",
   "execution_count": 21,
   "metadata": {},
   "outputs": [],
   "source": [
    "def create_numerical_aggs(data: pd.DataFrame,\n",
    "                          groupby_id: str,\n",
    "                          aggs: dict,\n",
    "                          prefix: Optional[str] = None,\n",
    "                          suffix: Optional[str] = None,\n",
    "                          ) -> pd.DataFrame:\n",
    "    \"\"\"\n",
    "    Построение агрегаций для числовых признаков.\n",
    "\n",
    "    Parameters\n",
    "    ----------\n",
    "    data: pandas.core.frame.DataFrame\n",
    "        Выборка для построения агрегаций.\n",
    "\n",
    "    groupby_id: str\n",
    "        Название ключа, по которому нужно произвести группировку.\n",
    "\n",
    "    aggs: dict\n",
    "        Словарь с названием признака и списка функций.\n",
    "        Ключ словаря - название признака, который используется для\n",
    "        вычисления агрегаций, значение словаря - список с названием\n",
    "        функций для вычисления агрегаций.\n",
    "\n",
    "    prefix: str, optional, default = None\n",
    "        Префикс для названия признаков.\n",
    "        Опциональный параметр, по умолчанию, не используется.\n",
    "\n",
    "    suffix: str, optional, default = None\n",
    "        Суффикс для названия признаков.\n",
    "        Опциональный параметр, по умолчанию, не используется.\n",
    "\n",
    "    Returns\n",
    "    -------\n",
    "    stats: pandas.core.frame.DataFrame\n",
    "        Выборка с рассчитанными агрегациями.\n",
    "\n",
    "    \"\"\"\n",
    "    if not prefix:\n",
    "        prefix = \"\"\n",
    "    if not suffix:\n",
    "        suffix = \"_groupby_\"+groupby_id\n",
    "\n",
    "    data_grouped = data.groupby(groupby_id)\n",
    "    stats = data_grouped.agg(aggs)\n",
    "    stats.columns = [f\"{prefix}{feature}_{stat}{suffix}\".lower() for feature, stat in stats]\n",
    "    stats = stats.reset_index()\n",
    "\n",
    "    return stats"
   ]
  },
  {
   "cell_type": "code",
   "execution_count": 22,
   "metadata": {},
   "outputs": [],
   "source": [
    "def create_stats_feature(df, stats, groupby_id):\n",
    "    df = df.merge(\n",
    "        stats, how=\"left\", on=groupby_id, suffixes=''\n",
    "    )\n",
    "    df[\"transactionamt_stats_groupby_\"+groupby_id ] = df[\"transactionamt_mean_groupby_\"+groupby_id] / df[\"transactionamt_std_groupby_\"+groupby_id]\n",
    "    df.drop([\"transactionamt_mean_groupby_\"+groupby_id, \"transactionamt_std_groupby_\"+groupby_id],axis=1)\n",
    "    return df"
   ]
  },
  {
   "cell_type": "code",
   "execution_count": 23,
   "metadata": {},
   "outputs": [
    {
     "name": "stderr",
     "output_type": "stream",
     "text": [
      "C:\\Users\\elousiren\\AppData\\Roaming\\Python\\Python37\\site-packages\\pandas\\core\\frame.py:7959: FutureWarning: Passing 'suffixes' as a <class 'str'>, is not supported and may give unexpected results. Provide 'suffixes' as a tuple instead. In the future a 'TypeError' will be raised.\n",
      "  validate=validate,\n"
     ]
    }
   ],
   "source": [
    "groupby_id_list = ['card1', 'card2', 'card3', 'card4', 'card5', 'card6', 'addr1', 'addr2', 'card1-2','card1-5','card1-card5_addr1-2']\n",
    "aggs = {\n",
    "    \"TransactionAmt\": [np.mean, np.std],\n",
    "}\n",
    "\n",
    "for groupby_id in groupby_id_list:\n",
    "    stats = create_numerical_aggs(\n",
    "        x_train, groupby_id=groupby_id, aggs=aggs\n",
    "    )\n",
    "    x_train = create_stats_feature(x_train, stats, groupby_id)\n",
    "    x_valid = create_stats_feature(x_valid, stats, groupby_id)\n",
    "    x_test = create_stats_feature(x_test, stats, groupby_id)\n",
    "    x_def = create_stats_feature(x_def, stats, groupby_id)\n",
    "    "
   ]
  },
  {
   "cell_type": "code",
   "execution_count": 24,
   "metadata": {},
   "outputs": [
    {
     "name": "stdout",
     "output_type": "stream",
     "text": [
      "0:\ttest: 0.6038606\ttest1: 0.5883097\tbest: 0.5883097 (0)\ttotal: 766ms\tremaining: 12m 45s\n",
      "50:\ttest: 0.9186582\ttest1: 0.8467068\tbest: 0.8469365 (48)\ttotal: 33.7s\tremaining: 10m 27s\n",
      "100:\ttest: 0.9574477\ttest1: 0.8476694\tbest: 0.8478589 (73)\ttotal: 1m 9s\tremaining: 10m 15s\n",
      "150:\ttest: 0.9616078\ttest1: 0.8512297\tbest: 0.8512297 (150)\ttotal: 1m 44s\tremaining: 9m 50s\n",
      "200:\ttest: 0.9680771\ttest1: 0.8591529\tbest: 0.8591529 (200)\ttotal: 2m 21s\tremaining: 9m 22s\n",
      "250:\ttest: 0.9739193\ttest1: 0.8638928\tbest: 0.8639380 (249)\ttotal: 2m 58s\tremaining: 8m 51s\n",
      "300:\ttest: 0.9757593\ttest1: 0.8661954\tbest: 0.8661954 (300)\ttotal: 3m 34s\tremaining: 8m 18s\n",
      "350:\ttest: 0.9795077\ttest1: 0.8684438\tbest: 0.8684633 (349)\ttotal: 4m 10s\tremaining: 7m 43s\n",
      "400:\ttest: 0.9809974\ttest1: 0.8698485\tbest: 0.8699258 (399)\ttotal: 4m 46s\tremaining: 7m 8s\n",
      "450:\ttest: 0.9818623\ttest1: 0.8705949\tbest: 0.8705996 (448)\ttotal: 5m 22s\tremaining: 6m 32s\n",
      "500:\ttest: 0.9820607\ttest1: 0.8707078\tbest: 0.8707155 (494)\ttotal: 5m 56s\tremaining: 5m 55s\n",
      "550:\ttest: 0.9827385\ttest1: 0.8709003\tbest: 0.8709016 (549)\ttotal: 6m 30s\tremaining: 5m 18s\n",
      "600:\ttest: 0.9830409\ttest1: 0.8708454\tbest: 0.8709237 (561)\ttotal: 7m 4s\tremaining: 4m 42s\n",
      "650:\ttest: 0.9831032\ttest1: 0.8708486\tbest: 0.8709237 (561)\ttotal: 7m 38s\tremaining: 4m 6s\n",
      "Stopped by overfitting detector  (100 iterations wait)\n",
      "\n",
      "bestTest = 0.8709237035\n",
      "bestIteration = 561\n",
      "\n",
      "Shrink model to first 562 iterations.\n",
      "Train-score: 0.983, Valid-score: 0.871, отложенная выборка--score: 0.983, Test-score(LD): 0.983\n"
     ]
    }
   ],
   "source": [
    "cat_check()"
   ]
  },
  {
   "cell_type": "markdown",
   "metadata": {},
   "source": [
    "### Задание 5: Создать признаки на основе отношения: D15 к вычисленной статистике. Статистика - среднее значение / стандартное отклонение D15, сгруппированное по card1 - card6, addr1, addr2, и по признакам, созданным в задании 2."
   ]
  },
  {
   "cell_type": "code",
   "execution_count": 25,
   "metadata": {},
   "outputs": [
    {
     "name": "stderr",
     "output_type": "stream",
     "text": [
      "C:\\Users\\elousiren\\AppData\\Roaming\\Python\\Python37\\site-packages\\pandas\\core\\frame.py:7959: FutureWarning: Passing 'suffixes' as a <class 'str'>, is not supported and may give unexpected results. Provide 'suffixes' as a tuple instead. In the future a 'TypeError' will be raised.\n",
      "  validate=validate,\n"
     ]
    }
   ],
   "source": [
    "aggs = {\n",
    "    \"D15\": [np.mean, np.std],\n",
    "}\n",
    "\n",
    "for groupby_id in groupby_id_list:\n",
    "    stats = create_numerical_aggs(\n",
    "        x_train, groupby_id=groupby_id, aggs=aggs\n",
    "    )\n",
    "    x_train = create_stats_feature(x_train, stats, groupby_id)\n",
    "    x_valid = create_stats_feature(x_valid, stats, groupby_id)\n",
    "    x_test = create_stats_feature(x_test, stats, groupby_id)\n",
    "    x_def = create_stats_feature(x_def, stats, groupby_id)"
   ]
  },
  {
   "cell_type": "code",
   "execution_count": 26,
   "metadata": {},
   "outputs": [
    {
     "name": "stdout",
     "output_type": "stream",
     "text": [
      "0:\ttest: 0.6926225\ttest1: 0.7268762\tbest: 0.7268762 (0)\ttotal: 798ms\tremaining: 13m 17s\n",
      "50:\ttest: 0.9280167\ttest1: 0.8455763\tbest: 0.8455763 (50)\ttotal: 34.5s\tremaining: 10m 41s\n",
      "100:\ttest: 0.9629663\ttest1: 0.8443201\tbest: 0.8463385 (55)\ttotal: 1m 10s\tremaining: 10m 30s\n",
      "150:\ttest: 0.9682216\ttest1: 0.8482374\tbest: 0.8483175 (149)\ttotal: 1m 47s\tremaining: 10m 7s\n",
      "200:\ttest: 0.9731530\ttest1: 0.8570072\tbest: 0.8570072 (200)\ttotal: 2m 25s\tremaining: 9m 37s\n",
      "250:\ttest: 0.9761844\ttest1: 0.8624071\tbest: 0.8625279 (248)\ttotal: 3m 1s\tremaining: 9m 2s\n",
      "300:\ttest: 0.9782096\ttest1: 0.8658896\tbest: 0.8659099 (299)\ttotal: 3m 38s\tremaining: 8m 27s\n",
      "350:\ttest: 0.9796233\ttest1: 0.8677266\tbest: 0.8677652 (345)\ttotal: 4m 14s\tremaining: 7m 51s\n",
      "400:\ttest: 0.9817584\ttest1: 0.8693385\tbest: 0.8694075 (397)\ttotal: 4m 52s\tremaining: 7m 16s\n",
      "450:\ttest: 0.9826820\ttest1: 0.8705791\tbest: 0.8705814 (449)\ttotal: 5m 28s\tremaining: 6m 39s\n",
      "500:\ttest: 0.9830543\ttest1: 0.8707381\tbest: 0.8707519 (480)\ttotal: 6m 3s\tremaining: 6m 1s\n",
      "550:\ttest: 0.9830668\ttest1: 0.8707447\tbest: 0.8707587 (533)\ttotal: 6m 36s\tremaining: 5m 22s\n",
      "600:\ttest: 0.9831756\ttest1: 0.8707808\tbest: 0.8707808 (600)\ttotal: 7m 9s\tremaining: 4m 45s\n",
      "650:\ttest: 0.9831804\ttest1: 0.8709611\tbest: 0.8709619 (647)\ttotal: 7m 43s\tremaining: 4m 8s\n",
      "700:\ttest: 0.9838355\ttest1: 0.8714150\tbest: 0.8714325 (697)\ttotal: 8m 17s\tremaining: 3m 32s\n",
      "750:\ttest: 0.9847248\ttest1: 0.8722634\tbest: 0.8722669 (744)\ttotal: 8m 52s\tremaining: 2m 56s\n",
      "800:\ttest: 0.9850157\ttest1: 0.8723800\tbest: 0.8723823 (799)\ttotal: 9m 28s\tremaining: 2m 21s\n",
      "850:\ttest: 0.9852312\ttest1: 0.8726335\tbest: 0.8726341 (848)\ttotal: 10m 3s\tremaining: 1m 45s\n",
      "900:\ttest: 0.9853296\ttest1: 0.8727091\tbest: 0.8727106 (898)\ttotal: 10m 37s\tremaining: 1m 10s\n",
      "950:\ttest: 0.9856468\ttest1: 0.8729083\tbest: 0.8729599 (945)\ttotal: 11m 12s\tremaining: 34.7s\n",
      "999:\ttest: 0.9857202\ttest1: 0.8730827\tbest: 0.8730987 (996)\ttotal: 11m 46s\tremaining: 0us\n",
      "\n",
      "bestTest = 0.8730987059\n",
      "bestIteration = 996\n",
      "\n",
      "Shrink model to first 997 iterations.\n",
      "Train-score: 0.986, Valid-score: 0.873, отложенная выборка--score: 0.986, Test-score(LD): 0.986\n"
     ]
    }
   ],
   "source": [
    "cat_check()"
   ]
  },
  {
   "cell_type": "markdown",
   "metadata": {},
   "source": [
    "### Задание 6: выделить дробную часть и целую часть признака TransactionAmt в два отдельных признака. После создать отдельных признак - логарифм от TransactionAmt"
   ]
  },
  {
   "cell_type": "code",
   "execution_count": 27,
   "metadata": {},
   "outputs": [],
   "source": [
    "def delflo(df):\n",
    "    df[['TransactionAmt_f', 'TransactionAmt_int']] = df['TransactionAmt'].apply(lambda x: math.modf(x)).apply(pd.Series)\n"
   ]
  },
  {
   "cell_type": "code",
   "execution_count": 28,
   "metadata": {},
   "outputs": [],
   "source": [
    "delflo(x_train)\n",
    "delflo(x_valid)\n",
    "delflo(x_test)\n",
    "delflo(x_def)"
   ]
  },
  {
   "cell_type": "code",
   "execution_count": 30,
   "metadata": {},
   "outputs": [
    {
     "name": "stdout",
     "output_type": "stream",
     "text": [
      "0:\ttest: 0.7067195\ttest1: 0.6919606\tbest: 0.6919606 (0)\ttotal: 728ms\tremaining: 12m 6s\n",
      "50:\ttest: 0.8932423\ttest1: 0.8487822\tbest: 0.8487822 (50)\ttotal: 33.9s\tremaining: 10m 30s\n",
      "100:\ttest: 0.9572482\ttest1: 0.8508438\tbest: 0.8525523 (57)\ttotal: 1m 8s\tremaining: 10m 7s\n",
      "150:\ttest: 0.9622346\ttest1: 0.8539371\tbest: 0.8539371 (150)\ttotal: 1m 44s\tremaining: 9m 46s\n",
      "200:\ttest: 0.9699215\ttest1: 0.8587681\tbest: 0.8587681 (200)\ttotal: 2m 21s\tremaining: 9m 22s\n",
      "250:\ttest: 0.9732744\ttest1: 0.8620669\tbest: 0.8620669 (250)\ttotal: 2m 58s\tremaining: 8m 51s\n",
      "300:\ttest: 0.9757463\ttest1: 0.8640314\tbest: 0.8640314 (300)\ttotal: 3m 34s\tremaining: 8m 18s\n",
      "350:\ttest: 0.9770281\ttest1: 0.8660548\tbest: 0.8660548 (350)\ttotal: 4m 10s\tremaining: 7m 43s\n",
      "400:\ttest: 0.9798392\ttest1: 0.8672627\tbest: 0.8674314 (389)\ttotal: 4m 47s\tremaining: 7m 8s\n",
      "450:\ttest: 0.9817716\ttest1: 0.8678799\tbest: 0.8679672 (447)\ttotal: 5m 22s\tremaining: 6m 32s\n",
      "500:\ttest: 0.9822704\ttest1: 0.8683348\tbest: 0.8683887 (473)\ttotal: 5m 57s\tremaining: 5m 56s\n",
      "550:\ttest: 0.9825695\ttest1: 0.8682711\tbest: 0.8683887 (473)\ttotal: 6m 33s\tremaining: 5m 20s\n",
      "Stopped by overfitting detector  (100 iterations wait)\n",
      "\n",
      "bestTest = 0.8683887435\n",
      "bestIteration = 473\n",
      "\n",
      "Shrink model to first 474 iterations.\n",
      "Train-score: 0.982, Valid-score: 0.868, отложенная выборка--score: 0.982, Test-score(LD): 0.982\n"
     ]
    }
   ],
   "source": [
    "cat_check()"
   ]
  },
  {
   "cell_type": "markdown",
   "metadata": {},
   "source": [
    "### Задание 7 (опция): выполнить предварительную подготовку / очистку признаков P_emaildomain и R_emaildomain (что и как делать - остается на ваше усмотрение) и сделать Frequency Encoding для очищенных признаков."
   ]
  },
  {
   "cell_type": "code",
   "execution_count": 31,
   "metadata": {},
   "outputs": [],
   "source": [
    "def email_cl(df):\n",
    "    df.loc[df['P_emaildomain']=='gmail', 'P_emaildomain'] = 'gmail.com'\n",
    "    df['P_emaildomain'] = df['P_emaildomain'].str.replace(r'.mx$','')\n",
    "    df.loc[df['R_emaildomain']=='gmail', 'R_emaildomain'] = 'gmail.com'\n",
    "    df['R_emaildomain'] = df['R_emaildomain'].str.replace(r'.mx$','')    "
   ]
  },
  {
   "cell_type": "code",
   "execution_count": 32,
   "metadata": {},
   "outputs": [
    {
     "data": {
      "text/plain": [
       "gmail.com           67198\n",
       "yahoo.com           28992\n",
       "missing             28440\n",
       "hotmail.com         15058\n",
       "anonymous.com       13328\n",
       "aol.com              8583\n",
       "comcast.net          2916\n",
       "icloud.com           1677\n",
       "outlook.com          1484\n",
       "msn.com              1423\n",
       "att.net              1223\n",
       "sbcglobal.net        1092\n",
       "verizon.net           971\n",
       "live.com              894\n",
       "bellsouth.net         713\n",
       "ymail.com             654\n",
       "me.com                624\n",
       "cox.net               570\n",
       "yahoo.com.mx          522\n",
       "charter.net           372\n",
       "optonline.net         362\n",
       "live.com.mx           254\n",
       "mac.com               214\n",
       "rocketmail.com        201\n",
       "earthlink.net         173\n",
       "mail.com              147\n",
       "outlook.es            142\n",
       "roadrunner.com        119\n",
       "gmail                 115\n",
       "juno.com              111\n",
       "embarqmail.com        109\n",
       "windstream.net         95\n",
       "twc.com                86\n",
       "hotmail.es             85\n",
       "frontier.com           79\n",
       "q.com                  68\n",
       "hotmail.fr             68\n",
       "netzero.com            65\n",
       "web.de                 64\n",
       "aim.com                63\n",
       "prodigy.net.mx         62\n",
       "frontiernet.net        59\n",
       "cfl.rr.com             59\n",
       "netzero.net            49\n",
       "centurylink.net        49\n",
       "suddenlink.net         45\n",
       "sc.rr.com              44\n",
       "cableone.net           37\n",
       "yahoo.fr               36\n",
       "yahoo.es               35\n",
       "gmx.de                 33\n",
       "yahoo.de               25\n",
       "ptd.net                23\n",
       "protonmail.com         20\n",
       "yahoo.co.uk            19\n",
       "live.fr                15\n",
       "hotmail.co.uk          14\n",
       "servicios-ta.com       12\n",
       "yahoo.co.jp             6\n",
       "hotmail.de              4\n",
       "Name: P_emaildomain, dtype: int64"
      ]
     },
     "execution_count": 32,
     "metadata": {},
     "output_type": "execute_result"
    }
   ],
   "source": [
    "x_train['P_emaildomain'].value_counts()"
   ]
  },
  {
   "cell_type": "code",
   "execution_count": 33,
   "metadata": {},
   "outputs": [
    {
     "data": {
      "text/plain": [
       "missing           119700\n",
       "gmail.com          24644\n",
       "hotmail.com        10129\n",
       "anonymous.com       9882\n",
       "yahoo.com           5666\n",
       "                   ...  \n",
       "netzero.net            7\n",
       "scranton.edu           6\n",
       "sc.rr.com              6\n",
       "protonmail.com         5\n",
       "hotmail.de             4\n",
       "Name: R_emaildomain, Length: 61, dtype: int64"
      ]
     },
     "execution_count": 33,
     "metadata": {},
     "output_type": "execute_result"
    }
   ],
   "source": [
    "x_train['R_emaildomain'].value_counts()"
   ]
  },
  {
   "cell_type": "code",
   "execution_count": 34,
   "metadata": {},
   "outputs": [],
   "source": [
    "email_cl(x_train)\n",
    "mask = x_train['P_emaildomain'].value_counts()\n",
    "x_train.loc[x_train['P_emaildomain'].isin(mask.index[mask<500]), 'P_emaildomain'] = 'other'\n",
    "mask = x_train.value_counts()"
   ]
  },
  {
   "cell_type": "code",
   "execution_count": 35,
   "metadata": {},
   "outputs": [],
   "source": [
    "email_cl(x_valid)\n",
    "email_cl(x_test)\n",
    "email_cl(x_def)\n",
    "x_valid.loc[x_valid['P_emaildomain'].isin(mask.index), 'P_emaildomain'] = 'other'\n",
    "x_test.loc[x_test['P_emaildomain'].isin(mask.index), 'P_emaildomain'] = 'other'\n",
    "x_def.loc[x_def['P_emaildomain'].isin(mask.index), 'P_emaildomain'] = 'other'"
   ]
  },
  {
   "cell_type": "code",
   "execution_count": 40,
   "metadata": {},
   "outputs": [],
   "source": [
    "mask = x_train['R_emaildomain'].value_counts()\n",
    "x_train.loc[x_train['R_emaildomain'].isin(mask.index[mask<200]), 'R_emaildomain'] = 'other'\n",
    "mask = x_train.value_counts()"
   ]
  },
  {
   "cell_type": "code",
   "execution_count": 41,
   "metadata": {},
   "outputs": [],
   "source": [
    "x_valid.loc[x_valid['R_emaildomain'].isin(mask.index), 'R_emaildomain'] = 'other'\n",
    "x_test.loc[x_test['R_emaildomain'].isin(mask.index), 'R_emaildomain'] = 'other'\n",
    "x_def.loc[x_def['R_emaildomain'].isin(mask.index), 'R_emaildomain'] = 'other'"
   ]
  },
  {
   "cell_type": "code",
   "execution_count": 42,
   "metadata": {},
   "outputs": [],
   "source": [
    "freq_en(x_train, ['P_emaildomain', 'R_emaildomain'])\n",
    "freq_en(x_valid, ['P_emaildomain', 'R_emaildomain'])\n",
    "freq_en(x_test, ['P_emaildomain', 'R_emaildomain'])\n",
    "freq_en(x_def, ['P_emaildomain', 'R_emaildomain'])"
   ]
  },
  {
   "cell_type": "code",
   "execution_count": 43,
   "metadata": {},
   "outputs": [
    {
     "name": "stdout",
     "output_type": "stream",
     "text": [
      "0:\ttest: 0.6599799\ttest1: 0.6615687\tbest: 0.6615687 (0)\ttotal: 746ms\tremaining: 12m 25s\n",
      "50:\ttest: 0.8995976\ttest1: 0.8468652\tbest: 0.8475442 (45)\ttotal: 34.2s\tremaining: 10m 35s\n",
      "100:\ttest: 0.9578212\ttest1: 0.8497331\tbest: 0.8506553 (66)\ttotal: 1m 8s\tremaining: 10m 13s\n",
      "150:\ttest: 0.9683701\ttest1: 0.8519325\tbest: 0.8524231 (139)\ttotal: 1m 46s\tremaining: 9m 59s\n",
      "200:\ttest: 0.9729862\ttest1: 0.8583981\tbest: 0.8583981 (200)\ttotal: 2m 23s\tremaining: 9m 30s\n",
      "250:\ttest: 0.9765050\ttest1: 0.8609924\tbest: 0.8609924 (250)\ttotal: 3m\tremaining: 8m 59s\n",
      "300:\ttest: 0.9782464\ttest1: 0.8642069\tbest: 0.8642069 (300)\ttotal: 3m 37s\tremaining: 8m 24s\n",
      "350:\ttest: 0.9800308\ttest1: 0.8653033\tbest: 0.8654365 (335)\ttotal: 4m 15s\tremaining: 7m 52s\n",
      "400:\ttest: 0.9808362\ttest1: 0.8669452\tbest: 0.8669452 (400)\ttotal: 4m 52s\tremaining: 7m 16s\n",
      "450:\ttest: 0.9815070\ttest1: 0.8679516\tbest: 0.8679559 (449)\ttotal: 5m 29s\tremaining: 6m 41s\n",
      "500:\ttest: 0.9817679\ttest1: 0.8679814\tbest: 0.8680355 (478)\ttotal: 6m 3s\tremaining: 6m 2s\n",
      "550:\ttest: 0.9818818\ttest1: 0.8679662\tbest: 0.8680355 (478)\ttotal: 6m 37s\tremaining: 5m 24s\n",
      "600:\ttest: 0.9821298\ttest1: 0.8682487\tbest: 0.8682491 (598)\ttotal: 7m 11s\tremaining: 4m 46s\n",
      "650:\ttest: 0.9826532\ttest1: 0.8688797\tbest: 0.8688856 (648)\ttotal: 7m 45s\tremaining: 4m 9s\n",
      "700:\ttest: 0.9828378\ttest1: 0.8693170\tbest: 0.8693178 (695)\ttotal: 8m 20s\tremaining: 3m 33s\n",
      "750:\ttest: 0.9830187\ttest1: 0.8695498\tbest: 0.8695498 (750)\ttotal: 8m 55s\tremaining: 2m 57s\n",
      "800:\ttest: 0.9831303\ttest1: 0.8696948\tbest: 0.8696951 (799)\ttotal: 9m 28s\tremaining: 2m 21s\n",
      "850:\ttest: 0.9831533\ttest1: 0.8699756\tbest: 0.8699771 (849)\ttotal: 10m 1s\tremaining: 1m 45s\n",
      "900:\ttest: 0.9832086\ttest1: 0.8699773\tbest: 0.8700618 (891)\ttotal: 10m 35s\tremaining: 1m 9s\n",
      "950:\ttest: 0.9832477\ttest1: 0.8703019\tbest: 0.8703021 (949)\ttotal: 11m 9s\tremaining: 34.5s\n",
      "999:\ttest: 0.9834146\ttest1: 0.8703723\tbest: 0.8703766 (983)\ttotal: 11m 41s\tremaining: 0us\n",
      "\n",
      "bestTest = 0.8703766244\n",
      "bestIteration = 983\n",
      "\n",
      "Shrink model to first 984 iterations.\n",
      "Train-score: 0.983, Valid-score: 0.87, отложенная выборка--score: 0.983, Test-score(LD): 0.983\n"
     ]
    }
   ],
   "source": [
    "cat_check()"
   ]
  }
 ],
 "metadata": {
  "kernelspec": {
   "display_name": "Python 3",
   "language": "python",
   "name": "python3"
  },
  "language_info": {
   "codemirror_mode": {
    "name": "ipython",
    "version": 3
   },
   "file_extension": ".py",
   "mimetype": "text/x-python",
   "name": "python",
   "nbconvert_exporter": "python",
   "pygments_lexer": "ipython3",
   "version": "3.7.6"
  }
 },
 "nbformat": 4,
 "nbformat_minor": 4
}
